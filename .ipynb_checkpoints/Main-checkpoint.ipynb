{
 "cells": [
  {
   "cell_type": "markdown",
   "metadata": {},
   "source": [
    "## App Overview"
   ]
  },
  {
   "cell_type": "markdown",
   "metadata": {},
   "source": [
    "### Core Functionality"
   ]
  },
  {
   "cell_type": "code",
   "execution_count": null,
   "metadata": {},
   "outputs": [],
   "source": [
    "# Primary focus is to track goals on major lifts (squat, bench, deadlift to start)\n",
    "    # would like a pop-up to appear whenever getting ready to perform this lift in next workout\n",
    "    # \"Last time you performed the Bench Press you lifted 185 pounds for 3 reps\"\n",
    "\n",
    "# Need to track weights\n",
    "\n",
    "# Ability to create a template for an upcoming workout\n",
    "\n"
   ]
  },
  {
   "cell_type": "markdown",
   "metadata": {},
   "source": [
    "### Interface Description"
   ]
  },
  {
   "cell_type": "code",
   "execution_count": null,
   "metadata": {},
   "outputs": [],
   "source": [
    "# Create a workout as main focus\n",
    "    # from there ability to either create a workout for now/on the fly\n",
    "        # lets you go right in and track as you go\n",
    "    # or create a workout for a future time\n",
    "        # lets you create a framework to be used at a later time\n",
    "        \n",
    "# View past workouts\n",
    "    # Filter by date or exercises performed\n",
    "\n",
    "# View trended data\n",
    "    # See graphs showing weight over time\n",
    "    "
   ]
  },
  {
   "cell_type": "markdown",
   "metadata": {},
   "source": [
    "### Future Functionality"
   ]
  },
  {
   "cell_type": "code",
   "execution_count": null,
   "metadata": {},
   "outputs": [],
   "source": [
    "# Add additional exercise types - running, yoga, etc\n",
    "\n",
    "# Ability to notice a drop in performace, and suggest rest accordingly\n",
    "\n",
    "# Add workout templates from external sources\n",
    "\n",
    "# Add an exercise of the day \n",
    "    # Something supplementary that I'd like to encorporate more often\n",
    "    \n",
    "\n"
   ]
  },
  {
   "cell_type": "code",
   "execution_count": null,
   "metadata": {},
   "outputs": [],
   "source": []
  },
  {
   "cell_type": "markdown",
   "metadata": {},
   "source": [
    "## Import Statements\n"
   ]
  },
  {
   "cell_type": "code",
   "execution_count": null,
   "metadata": {},
   "outputs": [],
   "source": [
    "import datetime as dt"
   ]
  },
  {
   "cell_type": "markdown",
   "metadata": {},
   "source": [
    "## Create Necessary Classes"
   ]
  },
  {
   "cell_type": "markdown",
   "metadata": {},
   "source": [
    "### Workout Class"
   ]
  },
  {
   "cell_type": "code",
   "execution_count": 76,
   "metadata": {},
   "outputs": [],
   "source": [
    "# A Workout contains a date and a number of exercises\n",
    "class Workout:\n",
    "    def __init__(self, date, exercise):\n",
    "        self.date = date\n",
    "        self.exercise = exercise\n",
    "        \n",
    "    def show_workout(self):\n",
    "        print(\"On {} you are scheduled to do the following exercises: {}\".format(self.date, self.exercises))\n",
    "        \n",
    "    # try to ID a way to add an exercise to an object so that lists are not needed\n",
    "    #def add_exercise(self)\n",
    "        "
   ]
  },
  {
   "cell_type": "code",
   "execution_count": 58,
   "metadata": {},
   "outputs": [
    {
     "name": "stdout",
     "output_type": "stream",
     "text": [
      "On 2020-07-06 you are scheduled to do the following exercises: ['Bench Press', 'Squat', 'Deadlift']\n"
     ]
    }
   ],
   "source": [
    "workout1 = Workout(dt.date(2020, 7, 6), [\"Bench Press\", \"Squat\", \"Deadlift\"])\n",
    "workout1.show_workout()"
   ]
  },
  {
   "cell_type": "code",
   "execution_count": null,
   "metadata": {},
   "outputs": [],
   "source": []
  },
  {
   "cell_type": "markdown",
   "metadata": {},
   "source": [
    "### Exercise Class"
   ]
  },
  {
   "cell_type": "code",
   "execution_count": null,
   "metadata": {},
   "outputs": [],
   "source": [
    "    \n",
    "# An exercise contains a name and number of sets\n",
    "class Exercise:\n",
    "    def __init__(self, exercise, sets, reps):\n",
    "        self.exercise = exercise\n",
    "        self.sets = sets\n",
    "        self.reps = reps\n",
    "        \n",
    "    "
   ]
  },
  {
   "cell_type": "code",
   "execution_count": null,
   "metadata": {},
   "outputs": [],
   "source": []
  },
  {
   "cell_type": "markdown",
   "metadata": {},
   "source": [
    "### Set Class"
   ]
  },
  {
   "cell_type": "code",
   "execution_count": null,
   "metadata": {},
   "outputs": [],
   "source": [
    "\n",
    "        \n",
    "\n",
    "\n",
    "\n",
    "# A set contains an exercise name, weight, and number of reps\n",
    "class Set:\n",
    "    def __init__(self, exercise, weight, reps):\n",
    "        self.exercise = exercise\n",
    "        self.weight = weight\n",
    "        self.reps = reps\n",
    "        \n",
    "    def describe_set(self):\n",
    "        #print(\"You performed \" + str(self.reps) + \" reps of \" + str(self.weight) + \" pounds on the \" + self.exercise_name)\n",
    "        print(\"You performed {} reps of {} pounds on the {}\".format(self.reps, self.weight, self.exercise))"
   ]
  },
  {
   "cell_type": "code",
   "execution_count": null,
   "metadata": {},
   "outputs": [],
   "source": [
    "set1 = Set(\"Bench Press\", 185, 5)\n",
    "set1.describe_set()"
   ]
  },
  {
   "cell_type": "code",
   "execution_count": null,
   "metadata": {},
   "outputs": [],
   "source": []
  },
  {
   "cell_type": "code",
   "execution_count": null,
   "metadata": {},
   "outputs": [],
   "source": []
  },
  {
   "cell_type": "code",
   "execution_count": null,
   "metadata": {},
   "outputs": [],
   "source": []
  },
  {
   "cell_type": "markdown",
   "metadata": {},
   "source": [
    "## Create App Functionality"
   ]
  },
  {
   "cell_type": "markdown",
   "metadata": {},
   "source": [
    "### Creating a Workout"
   ]
  },
  {
   "cell_type": "code",
   "execution_count": 80,
   "metadata": {},
   "outputs": [],
   "source": [
    "# Create a workout by inputting a date and a list of exercise instances\n",
    "# Each exercise object should have a number of sets and reps associated with it\n",
    "def create_workout():\n",
    "    # get the date attribute\n",
    "    workout_date = dt.date.today() # will need to make this dynamic at some point\n",
    "    \n",
    "    # create a list of exercise objects to add to the exercise attribute\n",
    "    workout_exercises = []\n",
    "    \n",
    "    temp_list = ['bench press', 'deadlift', 'squat'] # will eventually ask for inputs here\n",
    "    \n",
    "    for exercise in temp_list: # ask the user how many sets and reps they want to do for each exercise\n",
    "        temp_sets = input('How many {} sets would you like to do?'.format(exercise))\n",
    "        temp_reps = input('How many {} reps would you like to do?'.format(exercise))\n",
    "        workout_exercises.append(Exercise(exercise, temp_sets, temp_reps))\n",
    "        \n",
    "    # add sets and reps for each exercise\n",
    "    #for exercise in workout_exercises:\n",
    "       \n",
    "    for exercise in workout_exercises:\n",
    "        print(exercise.exercise, exercise.sets, exercise.reps)\n",
    "    \n",
    "    workout = Workout(workout_date, workout_exercises)\n",
    "    \n",
    "    print(str(workout.date))\n",
    "    print(workout.exercise)"
   ]
  },
  {
   "cell_type": "code",
   "execution_count": null,
   "metadata": {},
   "outputs": [],
   "source": []
  },
  {
   "cell_type": "code",
   "execution_count": null,
   "metadata": {},
   "outputs": [],
   "source": []
  },
  {
   "cell_type": "code",
   "execution_count": 81,
   "metadata": {},
   "outputs": [
    {
     "name": "stdout",
     "output_type": "stream",
     "text": [
      "How many bench press reps would you like to do?5\n",
      "How many bench press sets would you like to do?5\n",
      "How many deadlift reps would you like to do?6\n",
      "How many deadlift sets would you like to do?3\n",
      "How many squat reps would you like to do?10\n",
      "How many squat sets would you like to do?3\n",
      "bench press 5 5\n",
      "deadlift 3 6\n",
      "squat 3 10\n",
      "2020-07-06\n",
      "[<__main__.Exercise object at 0x7f9cc7591ad0>, <__main__.Exercise object at 0x7f9cc779e550>, <__main__.Exercise object at 0x7f9cc77cad90>]\n"
     ]
    }
   ],
   "source": [
    "create_workout()"
   ]
  },
  {
   "cell_type": "code",
   "execution_count": null,
   "metadata": {},
   "outputs": [],
   "source": []
  },
  {
   "cell_type": "code",
   "execution_count": null,
   "metadata": {},
   "outputs": [],
   "source": []
  }
 ],
 "metadata": {
  "kernelspec": {
   "display_name": "Python 3",
   "language": "python",
   "name": "python3"
  },
  "language_info": {
   "codemirror_mode": {
    "name": "ipython",
    "version": 3
   },
   "file_extension": ".py",
   "mimetype": "text/x-python",
   "name": "python",
   "nbconvert_exporter": "python",
   "pygments_lexer": "ipython3",
   "version": "3.7.6"
  }
 },
 "nbformat": 4,
 "nbformat_minor": 4
}
